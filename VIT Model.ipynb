{
  "cells": [
    {
      "cell_type": "markdown",
      "metadata": {
        "id": "66rxjege57Mu"
      },
      "source": [
        "### Used to create small_dataset"
      ]
    },
    {
      "cell_type": "code",
      "execution_count": null,
      "metadata": {
        "id": "kdpeApP7Z6oq"
      },
      "outputs": [],
      "source": [
        "import os\n",
        "import shutil\n",
        "\n",
        "# Path to the directory containing subfolders with label names\n",
        "source_dir = \"/content/drive/MyDrive/VIT/smalldata\"\n",
        "\n",
        "# Path to the directory where you want to save the small dataset\n",
        "destination_dir = \"/content/drive/MyDrive/VIT\"\n",
        "\n",
        "# Create the destination directory if it doesn't exist\n",
        "if not os.path.exists(destination_dir):\n",
        "    os.makedirs(destination_dir)\n",
        "\n",
        "# Get a list of subfolders (label names) in the source directory\n",
        "subfolders = [f.name for f in os.scandir(source_dir) if f.is_dir()]\n",
        "\n",
        "# Loop through each subfolder and copy 20 images to the destination directory\n",
        "for subfolder in subfolders:\n",
        "    subfolder_path = os.path.join(source_dir, subfolder)\n",
        "    image_files = [f.name for f in os.scandir(subfolder_path) if f.is_file() and f.name.endswith(('.jpg', '.jpeg', '.png','.JPG'))]\n",
        "\n",
        "    # Ensure there are at least 20 images in the subfolder\n",
        "    if len(image_files) >= 20:\n",
        "        selected_images = image_files[:20]\n",
        "    else:\n",
        "        selected_images = image_files\n",
        "\n",
        "    # Create a subfolder in the destination directory for the current label\n",
        "    destination_subfolder = os.path.join(destination_dir, subfolder)\n",
        "    os.makedirs(destination_subfolder, exist_ok=True)\n",
        "\n",
        "    # Copy selected images to the destination subfolder\n",
        "    for image in selected_images:\n",
        "        source_image_path = os.path.join(subfolder_path, image)\n",
        "        destination_image_path = os.path.join(destination_subfolder, image)\n",
        "\n",
        "        shutil.copy(source_image_path, destination_image_path)\n",
        "\n",
        "print(\"Data copied successfully!\")"
      ]
    },
    {
      "cell_type": "markdown",
      "metadata": {
        "id": "868h6LVg6AEv"
      },
      "source": [
        "### Used for converting all to jpg format"
      ]
    },
    {
      "cell_type": "code",
      "execution_count": null,
      "metadata": {
        "id": "s-0t765qiaL_"
      },
      "outputs": [],
      "source": [
        "import os\n",
        "from PIL import Image\n",
        "import shutil\n",
        "\n",
        "# Path to the directory containing the dataset with class folders\n",
        "data_dir = \"/content/drive/MyDrive/VIT/smalldata\"\n",
        "output_dir = \"/content/drive/MyDrive/VIT/smalldata_jpg\"  # New directory for converted images\n",
        "\n",
        "# Create the output directory if it doesn't exist\n",
        "if not os.path.exists(output_dir):\n",
        "    os.makedirs(output_dir)\n",
        "\n",
        "# Function to convert image files to JPG format while maintaining RGB format\n",
        "def convert_images_to_jpg(directory):\n",
        "    for root, dirs, files in os.walk(directory):\n",
        "        for file in files:\n",
        "            if file.lower().endswith(('.png', '.jpeg', '.jpg','.JPG')):\n",
        "                image_path = os.path.join(root, file)\n",
        "                output_subdir = os.path.relpath(root, directory)  # Maintain subdirectory structure\n",
        "                output_subdir_path = os.path.join(output_dir, output_subdir)\n",
        "                if not os.path.exists(output_subdir_path):\n",
        "                    os.makedirs(output_subdir_path)\n",
        "\n",
        "                image = Image.open(image_path)\n",
        "\n",
        "                # Ensure RGB format\n",
        "                if image.mode != \"RGB\":\n",
        "                    image = image.convert(\"RGB\")\n",
        "\n",
        "                jpg_path = os.path.join(output_subdir_path, os.path.splitext(file)[0] + \".jpg\")\n",
        "                image.save(jpg_path, \"JPEG\")\n",
        "                print(f\"Converted and saved: {image_path} -> {jpg_path}\")\n",
        "\n",
        "# Convert images in the data directory and its subfolders\n",
        "convert_images_to_jpg(data_dir)\n",
        "\n",
        "print(\"Image conversion to .jpg format (RGB) and copying to new directory completed.\")\n"
      ]
    },
    {
      "cell_type": "markdown",
      "metadata": {
        "id": "yQhSTH_d6HPU"
      },
      "source": [
        "### VIT start from here"
      ]
    },
    {
      "cell_type": "code",
      "execution_count": 1,
      "metadata": {
        "colab": {
          "base_uri": "https://localhost:8080/"
        },
        "id": "rP65euP0sbHH",
        "outputId": "944a6d30-7f9c-4c45-a332-f34202d2a7c9"
      },
      "outputs": [
        {
          "output_type": "stream",
          "name": "stdout",
          "text": [
            "Collecting tensorflow-addons\n",
            "  Downloading tensorflow_addons-0.21.0-cp310-cp310-manylinux_2_17_x86_64.manylinux2014_x86_64.whl (612 kB)\n",
            "\u001b[?25l     \u001b[90m━━━━━━━━━━━━━━━━━━━━━━━━━━━━━━━━━━━━━━━━\u001b[0m \u001b[32m0.0/612.1 kB\u001b[0m \u001b[31m?\u001b[0m eta \u001b[36m-:--:--\u001b[0m\r\u001b[2K     \u001b[91m━━━━━━━\u001b[0m\u001b[90m╺\u001b[0m\u001b[90m━━━━━━━━━━━━━━━━━━━━━━━━━━━━━━━\u001b[0m \u001b[32m112.6/612.1 kB\u001b[0m \u001b[31m3.3 MB/s\u001b[0m eta \u001b[36m0:00:01\u001b[0m\r\u001b[2K     \u001b[90m━━━━━━━━━━━━━━━━━━━━━━━━━━━━━━━━━━━━━━\u001b[0m \u001b[32m612.1/612.1 kB\u001b[0m \u001b[31m11.3 MB/s\u001b[0m eta \u001b[36m0:00:00\u001b[0m\n",
            "\u001b[?25hRequirement already satisfied: packaging in /usr/local/lib/python3.10/dist-packages (from tensorflow-addons) (23.1)\n",
            "Collecting typeguard<3.0.0,>=2.7 (from tensorflow-addons)\n",
            "  Downloading typeguard-2.13.3-py3-none-any.whl (17 kB)\n",
            "Installing collected packages: typeguard, tensorflow-addons\n",
            "Successfully installed tensorflow-addons-0.21.0 typeguard-2.13.3\n"
          ]
        }
      ],
      "source": [
        "pip install -U tensorflow-addons\n"
      ]
    },
    {
      "cell_type": "code",
      "execution_count": 2,
      "metadata": {
        "colab": {
          "base_uri": "https://localhost:8080/"
        },
        "id": "jLagmU9_sppJ",
        "outputId": "639b4f3a-ba79-4b39-8d70-f1b5193e4e1b"
      },
      "outputs": [
        {
          "output_type": "stream",
          "name": "stdout",
          "text": [
            "Mounted at /content/drive\n"
          ]
        }
      ],
      "source": [
        "from google.colab import drive\n",
        "drive.mount('/content/drive')"
      ]
    },
    {
      "cell_type": "code",
      "execution_count": 3,
      "metadata": {
        "colab": {
          "base_uri": "https://localhost:8080/"
        },
        "id": "zJGtAmmas-g9",
        "outputId": "c14b68c3-9e64-4a64-9020-5e7570bd2183"
      },
      "outputs": [
        {
          "output_type": "stream",
          "name": "stdout",
          "text": [
            "/content/drive/MyDrive/VIT\n"
          ]
        }
      ],
      "source": [
        "%cd /content/drive/MyDrive/VIT"
      ]
    },
    {
      "cell_type": "code",
      "execution_count": 4,
      "metadata": {
        "id": "IrQTpfwytEmv",
        "colab": {
          "base_uri": "https://localhost:8080/"
        },
        "outputId": "8078c063-ba39-407d-80f5-7d48b2b8676d"
      },
      "outputs": [
        {
          "output_type": "stream",
          "name": "stderr",
          "text": [
            "/usr/local/lib/python3.10/dist-packages/tensorflow_addons/utils/tfa_eol_msg.py:23: UserWarning: \n",
            "\n",
            "TensorFlow Addons (TFA) has ended development and introduction of new features.\n",
            "TFA has entered a minimal maintenance and release mode until a planned end of life in May 2024.\n",
            "Please modify downstream libraries to take dependencies from other repositories in our TensorFlow community (e.g. Keras, Keras-CV, and Keras-NLP). \n",
            "\n",
            "For more information see: https://github.com/tensorflow/addons/issues/2807 \n",
            "\n",
            "  warnings.warn(\n"
          ]
        }
      ],
      "source": [
        "import numpy as np\n",
        "import tensorflow as tf\n",
        "from tensorflow import keras\n",
        "from tensorflow.keras import layers\n",
        "import tensorflow_addons as tfa"
      ]
    },
    {
      "cell_type": "markdown",
      "metadata": {
        "id": "24g-Wyd4nojw"
      },
      "source": [
        "## no need to run the code below if u created text,train and valid folder already"
      ]
    },
    {
      "cell_type": "code",
      "execution_count": null,
      "metadata": {
        "id": "onXR7KHuLLKE"
      },
      "outputs": [],
      "source": [
        "from PIL import Image\n",
        "import os\n",
        "\n",
        "def verify_images(directory):\n",
        "    error_images = []\n",
        "    for root, dirs, files in os.walk(directory):\n",
        "        for file in files:\n",
        "            image_path = os.path.join(root, file)\n",
        "            try:\n",
        "                with Image.open(image_path) as img:\n",
        "                    img.verify()\n",
        "            except (IOError, SyntaxError) as e:\n",
        "                error_images.append((image_path, str(e)))\n",
        "\n",
        "    return error_images\n",
        "\n",
        "if __name__ == \"__main__\":\n",
        "    label_directory = \"/content/drive/MyDrive/VIT/smalldata\"\n",
        "    errors = verify_images(label_directory)\n",
        "\n",
        "    if errors:\n",
        "        print(\"Errors found in the following images:\")\n",
        "        for image_path, error_message in errors:\n",
        "            print(f\"Image: {image_path}, Error: {error_message}\")\n",
        "    else:\n",
        "        print(\"No errors found in the images.\")\n"
      ]
    },
    {
      "cell_type": "code",
      "execution_count": null,
      "metadata": {
        "colab": {
          "base_uri": "https://localhost:8080/",
          "height": 245
        },
        "id": "MvBvCVike4Qb",
        "outputId": "5bc1bc16-e9e0-4a3d-943f-f8605e3bce99"
      },
      "outputs": [
        {
          "ename": "FileNotFoundError",
          "evalue": "ignored",
          "output_type": "error",
          "traceback": [
            "\u001b[0;31m---------------------------------------------------------------------------\u001b[0m",
            "\u001b[0;31mFileNotFoundError\u001b[0m                         Traceback (most recent call last)",
            "\u001b[0;32m<ipython-input-6-1804d99c0742>\u001b[0m in \u001b[0;36m<cell line: 16>\u001b[0;34m()\u001b[0m\n\u001b[1;32m     14\u001b[0m \u001b[0;34m\u001b[0m\u001b[0m\n\u001b[1;32m     15\u001b[0m \u001b[0;31m# List all class folders\u001b[0m\u001b[0;34m\u001b[0m\u001b[0;34m\u001b[0m\u001b[0m\n\u001b[0;32m---> 16\u001b[0;31m \u001b[0mclass_folders\u001b[0m \u001b[0;34m=\u001b[0m \u001b[0msorted\u001b[0m\u001b[0;34m(\u001b[0m\u001b[0mos\u001b[0m\u001b[0;34m.\u001b[0m\u001b[0mlistdir\u001b[0m\u001b[0;34m(\u001b[0m\u001b[0mdata_dir\u001b[0m\u001b[0;34m)\u001b[0m\u001b[0;34m)\u001b[0m\u001b[0;34m\u001b[0m\u001b[0;34m\u001b[0m\u001b[0m\n\u001b[0m\u001b[1;32m     17\u001b[0m \u001b[0;34m\u001b[0m\u001b[0m\n\u001b[1;32m     18\u001b[0m \u001b[0;31m# Specify the split ratio for train, test, and valid sets\u001b[0m\u001b[0;34m\u001b[0m\u001b[0;34m\u001b[0m\u001b[0m\n",
            "\u001b[0;31mFileNotFoundError\u001b[0m: [Errno 2] No such file or directory: 'label'"
          ]
        }
      ],
      "source": [
        "import os\n",
        "import shutil\n",
        "import random\n",
        "\n",
        "# Path to the directory containing the dataset with class folders\n",
        "data_dir = \"label\"\n",
        "\n",
        "# Create the train, test, and valid folders if they don't exist\n",
        "train_dir = \"train\"\n",
        "test_dir = \"test\"\n",
        "valid_dir = \"valid\"\n",
        "#for folder in [train_dir, test_dir, valid_dir]:\n",
        "    ##os.makedirs(folder)\n",
        "\n",
        "# List all class folders\n",
        "class_folders = sorted(os.listdir(data_dir))\n",
        "\n",
        "# Specify the split ratio for train, test, and valid sets\n",
        "train_ratio = 0.7\n",
        "test_ratio = 0.2\n",
        "valid_ratio = 0.1\n",
        "\n",
        "# Loop through each class folder\n",
        "for class_folder in class_folders:\n",
        "    class_path = os.path.join(data_dir, class_folder)\n",
        "    class_images = os.listdir(class_path)\n",
        "\n",
        "    # Shuffle the images to split randomly\n",
        "    random.shuffle(class_images)\n",
        "\n",
        "    # Calculate the number of images for each split\n",
        "    num_images = len(class_images)\n",
        "    num_train = int(train_ratio * num_images)\n",
        "    num_test = int(test_ratio * num_images)\n",
        "    num_valid = num_images - num_train - num_test\n",
        "\n",
        "    # Split the images into train, test, and valid sets\n",
        "    train_images = class_images[:num_train]\n",
        "    test_images = class_images[num_train:num_train + num_test]\n",
        "    valid_images = class_images[num_train + num_test:]\n",
        "\n",
        "    # Move the images to their respective folders\n",
        "    for image in train_images:\n",
        "        src_path = os.path.join(class_path, image)\n",
        "        dst_path = os.path.join(train_dir, class_folder, image)\n",
        "        os.makedirs(os.path.join(train_dir, class_folder), exist_ok=True)\n",
        "        shutil.copy(src_path, dst_path)\n",
        "\n",
        "    for image in test_images:\n",
        "        src_path = os.path.join(class_path, image)\n",
        "        dst_path = os.path.join(test_dir, class_folder, image)\n",
        "        os.makedirs(os.path.join(test_dir, class_folder), exist_ok=True)\n",
        "        shutil.copy(src_path, dst_path)\n",
        "\n",
        "    for image in valid_images:\n",
        "        src_path = os.path.join(class_path, image)\n",
        "        dst_path = os.path.join(valid_dir, class_folder, image)\n",
        "        os.makedirs(os.path.join(valid_dir, class_folder), exist_ok=True)\n",
        "        shutil.copy(src_path, dst_path)\n",
        "\n",
        "print(\"Dataset split into train, test, and valid sets successfully.\")\n"
      ]
    },
    {
      "cell_type": "markdown",
      "metadata": {
        "id": "V7nN4NDcntwc"
      },
      "source": [
        "## Main model from here"
      ]
    },
    {
      "cell_type": "code",
      "execution_count": null,
      "metadata": {
        "id": "klSdNfXL1xDy"
      },
      "outputs": [],
      "source": [
        "#import tensorflow as tf\n",
        "#rgb_image=\"smalldata\"\n",
        "# Assuming your original grayscale image is stored in the variable 'gray_image'\n",
        "#resized_image = tf.image.resize(rgb_image, [32, 32,3])#pixel divide...etc...\n",
        "#resized_image = tf.expand_dims(resized_image, axis=-1)  # Add the channel dimension\n"
      ]
    },
    {
      "cell_type": "code",
      "execution_count": null,
      "metadata": {
        "id": "x_-HIzQvZur9"
      },
      "outputs": [],
      "source": []
    },
    {
      "cell_type": "code",
      "execution_count": 16,
      "metadata": {
        "colab": {
          "base_uri": "https://localhost:8080/"
        },
        "id": "1eWR7lguwQOT",
        "outputId": "a5967731-618b-4e56-80f3-5300a239f60e"
      },
      "outputs": [
        {
          "output_type": "stream",
          "name": "stdout",
          "text": [
            "Skipped 0 images due to errors.\n",
            "Dataset split into train, test, and valid sets successfully.\n",
            "Skipped image paths saved to: skipped_images.txt\n"
          ]
        }
      ],
      "source": [
        "import os\n",
        "import shutil\n",
        "import random\n",
        "from PIL import Image\n",
        "import numpy as np\n",
        "\n",
        "# Path to the directory containing the dataset with class folders\n",
        "data_dir = \"/content/drive/MyDrive/VIT/smalldata\"\n",
        "\n",
        "# Create the train, test, and valid folders if they don't exist\n",
        "train_dir = \"train\"\n",
        "test_dir = \"test\"\n",
        "valid_dir = \"valid\"\n",
        "#for folder in [train_dir, test_dir, valid_dir]:\n",
        "  #  if not os.path.exists(folder):\n",
        "     #   os.makedirs(folder)\n",
        "\n",
        "# List all class folders\n",
        "class_folders = sorted(os.listdir(data_dir))\n",
        "\n",
        "# Specify the split ratio for train, test, and valid sets\n",
        "train_ratio = 0.7\n",
        "test_ratio = 0.1\n",
        "valid_ratio = 0.2\n",
        "\n",
        "# Initialize lists to hold images and labels\n",
        "x_train = []\n",
        "y_train = []\n",
        "x_test = []\n",
        "y_test = []\n",
        "x_valid = []\n",
        "y_valid = []\n",
        "\n",
        "num_classes = 26\n",
        "input_shape = (72, 72, 3)\n",
        "\n",
        "# Create a list to hold paths of skipped images\n",
        "skipped_images = []\n",
        "\n",
        "# Load and preprocess image with enhanced error handling\n",
        "def preprocess_image(image_path):\n",
        "    try:\n",
        "        img = Image.open(image_path)\n",
        "        img = img.resize(input_shape[:2])  # Resize to input_shape\n",
        "        img_array = np.array(img)\n",
        "        return img_array\n",
        "    except (IOError, OSError) as e:\n",
        "        print(f\"Skipping image: {image_path} due to error: {e}\")\n",
        "        skipped_images.append(image_path)  # Add the skipped image path\n",
        "        return None\n",
        "\n",
        "# Loop through each class folder\n",
        "for class_folder in class_folders:\n",
        "    class_path = os.path.join(data_dir, class_folder)\n",
        "    class_images = os.listdir(class_path)\n",
        "\n",
        "    # Shuffle the images to split randomly\n",
        "    random.shuffle(class_images)\n",
        "\n",
        "    # Calculate the number of images for each split\n",
        "    num_images = len(class_images)\n",
        "    num_train = int(train_ratio * num_images)\n",
        "    num_test = int(test_ratio * num_images)\n",
        "    num_valid = num_images - num_train - num_test\n",
        "\n",
        "    # Split the images into train, test, and valid sets\n",
        "    train_images = class_images[:num_train]\n",
        "    test_images = class_images[num_train:num_train + num_test]\n",
        "    valid_images = class_images[num_train + num_test:]\n",
        "\n",
        "    # Preprocess and load train images\n",
        "    for image in train_images:\n",
        "        src_path = os.path.join(class_path, image)\n",
        "        dst_path = os.path.join(train_dir, class_folder, image)\n",
        "        os.makedirs(os.path.join(train_dir, class_folder), exist_ok=True)\n",
        "\n",
        "        # Skip image processing if it fails\n",
        "        img_array = preprocess_image(src_path)\n",
        "        if img_array is None:\n",
        "            continue  # Skip this image\n",
        "\n",
        "        shutil.copy(src_path, dst_path)\n",
        "        x_train.append(img_array)\n",
        "        y_train.append(class_folder)\n",
        "\n",
        "    # Preprocess and load test images\n",
        "    for image in test_images:\n",
        "        src_path = os.path.join(class_path, image)\n",
        "        dst_path = os.path.join(test_dir, class_folder, image)\n",
        "        os.makedirs(os.path.join(test_dir, class_folder), exist_ok=True)\n",
        "\n",
        "        # Skip image processing if it fails\n",
        "        img_array = preprocess_image(src_path)\n",
        "        if img_array is None:\n",
        "            continue  # Skip this image\n",
        "\n",
        "        shutil.copy(src_path, dst_path)\n",
        "        x_test.append(img_array)\n",
        "        y_test.append(class_folder)\n",
        "\n",
        "    # Preprocess and load valid images\n",
        "    for image in valid_images:\n",
        "        src_path = os.path.join(class_path, image)\n",
        "        dst_path = os.path.join(valid_dir, class_folder, image)\n",
        "        os.makedirs(os.path.join(valid_dir, class_folder), exist_ok=True)\n",
        "\n",
        "        # Skip image processing if it fails\n",
        "        img_array = preprocess_image(src_path)\n",
        "        if img_array is None:\n",
        "            continue  # Skip this image\n",
        "\n",
        "        shutil.copy(src_path, dst_path)\n",
        "        x_valid.append(img_array)\n",
        "        y_valid.append(class_folder)\n",
        "\n",
        "# Convert lists to numpy arrays\n",
        "x_train = np.array(x_train)\n",
        "y_train = np.array(y_train)\n",
        "x_test = np.array(x_test)\n",
        "y_test = np.array(y_test)\n",
        "x_valid = np.array(x_valid)\n",
        "y_valid = np.array(y_valid)\n",
        "\n",
        "# Print the total number of skipped images\n",
        "print(f\"Skipped {len(skipped_images)} images due to errors.\")\n",
        "\n",
        "# Save skipped image paths to a text file\n",
        "skipped_file_path = \"skipped_images.txt\"\n",
        "with open(skipped_file_path, 'w') as f:\n",
        "    for img_path in skipped_images:\n",
        "        f.write(img_path + '\\n')\n",
        "\n",
        "print(\"Dataset split into train, test, and valid sets successfully.\")\n",
        "print(f\"Skipped image paths saved to: {skipped_file_path}\")\n"
      ]
    },
    {
      "cell_type": "markdown",
      "metadata": {
        "id": "IjwNwLzx7bui"
      },
      "source": [
        "### Code that are commented out were left for debugging, No need to run them, You may delete them if everything work perfectly,\n"
      ]
    },
    {
      "cell_type": "code",
      "execution_count": null,
      "metadata": {
        "id": "_l0TcxPUiH3v"
      },
      "outputs": [],
      "source": [
        "# from tensorflow.keras.preprocessing.image import ImageDataGenerator\n",
        "\n",
        "# num_classes = 26\n",
        "# input_shape = (32, 32, 1)\n",
        "\n",
        "\n",
        "# train_datagen = ImageDataGenerator(rescale=1./255)\n",
        "# test_datagen = ImageDataGenerator(rescale=1./255)\n",
        "# valid_datagen = ImageDataGenerator(rescale=1./255)\n",
        "\n",
        "# train_generator = train_datagen.flow_from_directory(\n",
        "#     'train',\n",
        "#     target_size=input_shape[:2],\n",
        "#     batch_size=32,\n",
        "#     class_mode='categorical',\n",
        "#     color_mode='grayscale')\n",
        "\n",
        "# test_generator = test_datagen.flow_from_directory(\n",
        "#     'test',\n",
        "#     target_size=input_shape[:2],\n",
        "#     batch_size=32,\n",
        "#     class_mode='categorical',\n",
        "#     color_mode='grayscale')\n",
        "\n",
        "# valid_generator = valid_datagen.flow_from_directory(\n",
        "#     'valid',\n",
        "#     target_size=input_shape[:2],\n",
        "#     batch_size=32,\n",
        "#     class_mode='categorical',\n",
        "#     color_mode='grayscale')\n",
        "# x_train, _ = next(train_generator)\n",
        "\n",
        "# print(f\"train_generator shape: {train_generator.image_shape}\")\n",
        "# print(f\"test_generator shape: {test_generator.image_shape}\")\n",
        "# print(f\"valid_generator shape: {valid_generator.image_shape}\")\n"
      ]
    },
    {
      "cell_type": "code",
      "execution_count": null,
      "metadata": {
        "colab": {
          "base_uri": "https://localhost:8080/"
        },
        "id": "t6XAcAKl95II",
        "outputId": "0cc22735-3ce0-4315-84f9-bebf03efaa3b"
      },
      "outputs": [
        {
          "name": "stdout",
          "output_type": "stream",
          "text": [
            "Found 4015 images belonging to 26 classes.\n",
            "Found 996 images belonging to 26 classes.\n",
            "x_train shape: (32, 32, 1) - y_train shape: 32\n",
            "x_val shape: (32, 32, 1) - y_val shape: 32\n"
          ]
        }
      ],
      "source": [
        "\n",
        "# from keras.preprocessing.image import ImageDataGenerator\n",
        "\n",
        "# num_classes = 26\n",
        "# input_shape = (32, 32, 1)\n",
        "# batch_size = 32  # you can change this according to your system's capabilities\n",
        "\n",
        "# # create an image data generator object\n",
        "# datagen = ImageDataGenerator(rescale=1./255, validation_split=0.2)  # Rescaling pixel values and setting up a validation split\n",
        "\n",
        "# # Generator for training data\n",
        "# train_generator = datagen.flow_from_directory(\n",
        "#     'label',\n",
        "#     target_size=input_shape[:2],\n",
        "#     color_mode=\"grayscale\",  # if your images are color, use \"rgb\"\n",
        "#     batch_size=batch_size,\n",
        "#     class_mode='categorical',\n",
        "#     subset='training')  # set as training data\n",
        "\n",
        "# # Generator for validation data\n",
        "# validation_generator = datagen.flow_from_directory(\n",
        "#     'label',  # same directory as training data\n",
        "#     target_size=input_shape[:2],\n",
        "#     color_mode=\"grayscale\",  # if your images are color, use \"rgb\"\n",
        "#     batch_size=batch_size,\n",
        "#     class_mode='categorical',\n",
        "#     subset='validation')  # set as validation data\n",
        "\n",
        "# print(f\"x_train shape: {train_generator.image_shape} - y_train shape: {train_generator.batch_size}\")\n",
        "# print(f\"x_val shape: {validation_generator.image_shape} - y_val shape: {validation_generator.batch_size}\")\n"
      ]
    },
    {
      "cell_type": "code",
      "execution_count": null,
      "metadata": {
        "id": "z7oB_PVW7NOs"
      },
      "outputs": [],
      "source": []
    },
    {
      "cell_type": "markdown",
      "metadata": {
        "id": "GX5aVLCevu0t"
      },
      "source": [
        "### change epoch down here  ***Read comments, this is important step for FIne-tuning***"
      ]
    },
    {
      "cell_type": "code",
      "execution_count": 30,
      "metadata": {
        "id": "cvk2_Y1xuhAI"
      },
      "outputs": [],
      "source": [
        "learning_rate = 0.001\n",
        "num_classes = 26 # number of you class\n",
        "input_shape = (72, 72, 3) #defualt shape for this model, Usually 32,32 is for RGB images but since you are using Greyscale, ur images are 200,300, in later step I have converted them to 32,32,1\n",
        "weight_decay = 0.0001\n",
        "batch_size = 32  #you can insrease this for faster but may exhaustGPU if increased too much\n",
        "num_epochs = 30 # change this 100 or more if possible, add more epochs for better result (Increase this)\n",
        "image_size = 72 #use this in shape\n",
        "patch_size = 6\n",
        "num_patches = (image_size // patch_size) ** 2\n",
        "projection_dim = 64\n",
        "num_heads = 4\n",
        "transformer_units = [\n",
        "    projection_dim * 2,\n",
        "    projection_dim,\n",
        "]\n",
        "transformer_layers = 8\n",
        "mlp_head_units = [2048, 1024]\n"
      ]
    },
    {
      "cell_type": "code",
      "execution_count": 31,
      "metadata": {
        "id": "bfrIdtU-DYvO"
      },
      "outputs": [],
      "source": [
        "from tensorflow.keras import layers\n",
        "\n",
        "data_augmentation = keras.Sequential(\n",
        "    [\n",
        "        layers.Normalization(),\n",
        "        layers.Resizing(image_size, image_size),\n",
        "        layers.RandomFlip(\"horizontal\"),\n",
        "        layers.RandomRotation(factor=0.02),\n",
        "        layers.RandomZoom(\n",
        "            height_factor=0.2, width_factor=0.2\n",
        "        ),\n",
        "    ],\n",
        "    name=\"data_augmentation\",\n",
        ")\n",
        "\n",
        "# Get a batch of data\n",
        "\n",
        "\n",
        "# Compute the mean and the variance of the training data for normalization.\n",
        "data_augmentation.layers[0].adapt(x_train)\n"
      ]
    },
    {
      "cell_type": "code",
      "execution_count": null,
      "metadata": {
        "id": "OS_qBulfug7G"
      },
      "outputs": [],
      "source": [
        "# import tensorflow as tf\n",
        "# from tensorflow.keras import layers\n",
        "\n",
        "# # Modify these hyperparameters as per your requirements\n",
        "# image_size = 72\n",
        "\n",
        "# # Assuming you have already loaded your dataset into x_train and y_train\n",
        "# # Replace x_train with your actual training data\n",
        "\n",
        "# # Data augmentation and preprocessing\n",
        "# data_augmentation = tf.keras.Sequential(\n",
        "#     [\n",
        "#         layers.experimental.preprocessing.Normalization(),\n",
        "#         layers.experimental.preprocessing.Resizing(image_size, image_size),\n",
        "#         layers.experimental.preprocessing.RandomFlip(\"horizontal\"),\n",
        "#         layers.experimental.preprocessing.RandomRotation(factor=0.02),\n",
        "#         layers.experimental.preprocessing.RandomZoom(\n",
        "#             height_factor=0.2, width_factor=0.2\n",
        "#         ),\n",
        "#     ],\n",
        "#     name=\"data_augmentation\",\n",
        "# )\n",
        "\n",
        "# # Compute the mean and the variance of the training data for normalization.\n",
        "# data_augmentation.layers[0].adapt(x_train)\n"
      ]
    },
    {
      "cell_type": "code",
      "execution_count": 32,
      "metadata": {
        "id": "lAK4m1krwDNl"
      },
      "outputs": [],
      "source": [
        "def mlp(x, hidden_units, dropout_rate):\n",
        "    for units in hidden_units:\n",
        "        x = layers.Dense(units, activation=tf.nn.gelu)(x)\n",
        "        x = layers.Dropout(dropout_rate)(x)\n",
        "    return x\n"
      ]
    },
    {
      "cell_type": "code",
      "execution_count": 33,
      "metadata": {
        "id": "9kHUKS2CIx05"
      },
      "outputs": [],
      "source": [
        "\n",
        "\n",
        "class Patches(layers.Layer):\n",
        "    def __init__(self, patch_size):\n",
        "        super().__init__()\n",
        "        self.patch_size = patch_size\n",
        "\n",
        "    def call(self, images):\n",
        "        batch_size = tf.shape(images)[0]\n",
        "        patches = tf.image.extract_patches(\n",
        "            images=images,\n",
        "            sizes=[1, self.patch_size, self.patch_size, 1],\n",
        "            strides=[1, self.patch_size, self.patch_size, 1],\n",
        "            rates=[1, 1, 1, 1],\n",
        "            padding=\"VALID\",\n",
        "        )\n",
        "        patch_dims = patches.shape[-1]\n",
        "        patches = tf.reshape(patches, [batch_size, -1, patch_dims])\n",
        "        return patches\n"
      ]
    },
    {
      "cell_type": "code",
      "execution_count": 34,
      "metadata": {
        "colab": {
          "base_uri": "https://localhost:8080/",
          "height": 742
        },
        "id": "YMqeUzukzKlj",
        "outputId": "a2aa9310-82a1-4d0c-a776-4b32959f5c3b"
      },
      "outputs": [
        {
          "output_type": "stream",
          "name": "stdout",
          "text": [
            "Image size: 72 X 72\n",
            "Patch size: 6 X 6\n",
            "Patches per image: 144\n",
            "Elements per patch: 108\n"
          ]
        },
        {
          "output_type": "display_data",
          "data": {
            "text/plain": [
              "<Figure size 400x400 with 1 Axes>"
            ],
            "image/png": "[encoded data removed]"
          },
          "metadata": {}
        },
        {
          "output_type": "display_data",
          "data": {
            "text/plain": [
              "<Figure size 400x400 with 144 Axes>"
            ],
            "image/png": "[encoded data removed]"
          },
          "metadata": {}
        }
      ],
      "source": [
        "import matplotlib.pyplot as plt\n",
        "import tensorflow as tf\n",
        "import numpy as np\n",
        "\n",
        "\n",
        "\n",
        "# Choose a random image from x_train\n",
        "image_index = np.random.choice(range(x_train.shape[0]))\n",
        "image = x_train[image_index]\n",
        "\n",
        "# Ensure image has three dimensions (height, width, channels)\n",
        "if len(image.shape) == 2:\n",
        "    image = np.expand_dims(image, axis=-1)\n",
        "elif image.shape[0] == 3:\n",
        "    image = np.transpose(image, (1, 2, 0))\n",
        "\n",
        "plt.figure(figsize=(4, 4))\n",
        "plt.imshow(image.astype(\"uint8\"))\n",
        "plt.axis(\"off\")\n",
        "\n",
        "# Add batch dimension and resize\n",
        "resized_image = tf.image.resize(tf.expand_dims(image, axis=0), size=(image_size, image_size))\n",
        "\n",
        "# Extract patches\n",
        "patches = Patches(patch_size)(resized_image)\n",
        "\n",
        "print(f\"Image size: {image_size} X {image_size}\")\n",
        "print(f\"Patch size: {patch_size} X {patch_size}\")\n",
        "print(f\"Patches per image: {patches.shape[1]}\")\n",
        "print(f\"Elements per patch: {patches.shape[-1]}\")\n",
        "\n",
        "# Display the patches\n",
        "n = int(np.sqrt(patches.shape[1]))\n",
        "plt.figure(figsize=(4, 4))\n",
        "for i, patch in enumerate(patches[0]):\n",
        "    ax = plt.subplot(n, n, i + 1)\n",
        "    patch_img = tf.reshape(patch, (patch_size, patch_size, 3))\n",
        "    plt.imshow(patch_img.numpy().astype(\"uint8\"))\n",
        "    plt.axis(\"off\")\n"
      ]
    },
    {
      "cell_type": "code",
      "execution_count": null,
      "metadata": {
        "id": "ocdCwZRKQBOO"
      },
      "outputs": [],
      "source": [
        "# import matplotlib.pyplot as plt\n",
        "# import tensorflow as tf\n",
        "# import numpy as np\n",
        "\n",
        "# # Define your Patches class here if needed...\n",
        "\n",
        "# plt.figure(figsize=(4, 4))\n",
        "# # Get a batch of data\n",
        "# x_sample= x_train\n",
        "# # Select the first image from this batch\n",
        "# image = x_sample[0]\n",
        "# plt.imshow(image, cmap='gray')  # cmap='gray' for grayscale images\n",
        "# plt.axis(\"off\")\n",
        "\n",
        "# # Ensure the image has 4 dimensions: [batch_size, height, width, channels]\n",
        "# image = np.expand_dims(image, axis=0)\n",
        "\n",
        "# resized_image = tf.image.resize(\n",
        "#     image, size=[image_size, image_size]\n",
        "# )\n",
        "\n",
        "# patches = Patches(patch_size)(resized_image)\n",
        "# print(f\"Image size: {image_size} X {image_size}\")\n",
        "# print(f\"Patch size: {patch_size} X {patch_size}\")\n",
        "# print(f\"Patches per image: {patches.shape[1]}\")\n",
        "# print(f\"Elements per patch: {patches.shape[-1]}\")\n",
        "\n",
        "# n = int(np.sqrt(patches.shape[1]))\n",
        "# plt.figure(figsize=(4, 4))\n",
        "# for i, patch in enumerate(patches[0]):\n",
        "#     ax = plt.subplot(n, n, i + 1)\n",
        "#     patch_img = tf.reshape(patch, (patch_size, patch_size))\n",
        "#     plt.imshow(patch_img.numpy(), cmap='gray')\n",
        "#     plt.axis(\"off\")\n"
      ]
    },
    {
      "cell_type": "code",
      "execution_count": 22,
      "metadata": {
        "id": "i1lHIbqdwhTJ"
      },
      "outputs": [],
      "source": [
        "class PatchEncoder(layers.Layer):\n",
        "    def __init__(self, num_patches, projection_dim):\n",
        "        super(PatchEncoder, self).__init__()\n",
        "        self.num_patches = num_patches\n",
        "        self.projection = layers.Dense(units=projection_dim)\n",
        "        self.position_embedding = layers.Embedding(input_dim=num_patches, output_dim=projection_dim)\n",
        "\n",
        "    def call(self, patch):\n",
        "        positions = tf.range(start=0, limit=self.num_patches, delta=1)\n",
        "        encoded = self.projection(patch) + self.position_embedding(positions)\n",
        "        return encoded\n"
      ]
    },
    {
      "cell_type": "code",
      "execution_count": null,
      "metadata": {
        "id": "9hn5fvbLDGKA"
      },
      "outputs": [],
      "source": [
        "def create_vit_classifier():\n",
        "    inputs = layers.Input(shape=input_shape)\n",
        "    # Augment data.\n",
        "    augmented = data_augmentation(inputs)\n",
        "    # Create patches.\n",
        "    patches = Patches(patch_size)(augmented)\n",
        "    # Encode patches.\n",
        "    encoded_patches = PatchEncoder(num_patches, projection_dim)(patches)\n",
        "\n",
        "    # Create multiple layers of the Transformer block.\n",
        "    for _ in range(transformer_layers):\n",
        "        # Layer normalization 1.\n",
        "        x1 = layers.LayerNormalization(epsilon=1e-6)(encoded_patches)\n",
        "        # Create a multi-head attention layer.\n",
        "        attention_output = layers.MultiHeadAttention(\n",
        "            num_heads=num_heads, key_dim=projection_dim, dropout=0.1\n",
        "        )(x1, x1)\n",
        "        # Skip connection 1.\n",
        "        x2 = layers.Add()([attention_output, encoded_patches])\n",
        "        # Layer normalization 2.\n",
        "        x3 = layers.LayerNormalization(epsilon=1e-6)(x2)\n",
        "        # MLP.\n",
        "        x3 = mlp(x3, hidden_units=transformer_units, dropout_rate=0.1)\n",
        "        # Skip connection 2.\n",
        "        encoded_patches = layers.Add()([x3, x2])\n",
        "\n",
        "    # Create a [batch_size, projection_dim] tensor.\n",
        "    representation = layers.LayerNormalization(epsilon=1e-6)(encoded_patches)\n",
        "    representation = layers.Flatten()(representation)\n",
        "    representation = layers.Dropout(0.5)(representation)\n",
        "    # Add MLP.\n",
        "    features = mlp(representation, hidden_units=mlp_head_units, dropout_rate=0.5)\n",
        "    # Classify outputs.\n",
        "    logits = layers.Dense(num_classes)(features)\n",
        "    # Create the Keras model.\n",
        "    model = tf.keras.Model(inputs=inputs, outputs=logits)\n",
        "    return model\n",
        "\n",
        "# Create the VIT model\n",
        "vit_model = create_vit_classifier()\n",
        "vit_model.summary()\n"
      ]
    },
    {
      "cell_type": "markdown",
      "metadata": {
        "id": "-xSlaH_j7AyC"
      },
      "source": [
        "### Below two cells are for debugging, if u don't face error no need to run them"
      ]
    },
    {
      "cell_type": "code",
      "execution_count": 25,
      "metadata": {
        "colab": {
          "base_uri": "https://localhost:8080/"
        },
        "id": "TYsIU_t_3a6g",
        "outputId": "292c103b-302f-4686-fa28-62e6b4cd4b12"
      },
      "outputs": [
        {
          "output_type": "stream",
          "name": "stderr",
          "text": [
            "WARNING:tensorflow:From <ipython-input-25-57693d03c6c1>:1: experimental_run_functions_eagerly (from tensorflow.python.eager.polymorphic_function.quarantine) is deprecated and will be removed in a future version.\n",
            "Instructions for updating:\n",
            "Use `tf.config.run_functions_eagerly` instead of the experimental version.\n"
          ]
        }
      ],
      "source": [
        "tf.config.experimental_run_functions_eagerly(True) #run this once if error related to \"history\" occurs\n"
      ]
    },
    {
      "cell_type": "code",
      "execution_count": 26,
      "metadata": {
        "colab": {
          "base_uri": "https://localhost:8080/"
        },
        "id": "owJbpbC23xex",
        "outputId": "ba0fe55e-3973-44ab-e759-807f27d0fdf2"
      },
      "outputs": [
        {
          "output_type": "stream",
          "name": "stdout",
          "text": [
            "Class labels converted to integer labels successfully.\n"
          ]
        }
      ],
      "source": [
        "# Run this if error related to string or integer occurs\n",
        "# Create a mapping from class names to integer labels\n",
        "class_to_label = {class_name: i for i, class_name in enumerate(class_folders)}\n",
        "\n",
        "# Convert string labels to integers for train, test, and valid sets\n",
        "y_train = np.array([class_to_label[label] for label in y_train])\n",
        "y_test = np.array([class_to_label[label] for label in y_test])\n",
        "y_valid = np.array([class_to_label[label] for label in y_valid])\n",
        "\n",
        "print(\"Class labels converted to integer labels successfully.\")\n",
        "\n",
        "# Define the number of classes\n",
        "num_classes = len(class_to_label)\n"
      ]
    },
    {
      "cell_type": "code",
      "execution_count": null,
      "metadata": {
        "colab": {
          "base_uri": "https://localhost:8080/"
        },
        "id": "oqXK_7OW1Kso",
        "outputId": "01c9e0c5-c870-4d59-a96f-4299d3a8b973"
      },
      "outputs": [
        {
          "output_type": "execute_result",
          "data": {
            "text/plain": [
              "26"
            ]
          },
          "metadata": {},
          "execution_count": 24
        }
      ],
      "source": [
        "num_classes"
      ]
    },
    {
      "cell_type": "markdown",
      "metadata": {
        "id": "Ij11TOLC7Qa5"
      },
      "source": [
        "### this cell is for running and testing the VIT model"
      ]
    },
    {
      "cell_type": "code",
      "execution_count": 27,
      "metadata": {
        "colab": {
          "base_uri": "https://localhost:8080/"
        },
        "id": "tOaFAA8Dwr-k",
        "outputId": "499d3413-7943-4d5e-be39-2ffdf6f19ed2"
      },
      "outputs": [
        {
          "output_type": "stream",
          "name": "stdout",
          "text": [
            "Epoch 1/30\n"
          ]
        },
        {
          "output_type": "stream",
          "name": "stderr",
          "text": [
            "/usr/local/lib/python3.10/dist-packages/tensorflow/python/data/ops/structured_function.py:254: UserWarning: Even though the `tf.config.experimental_run_functions_eagerly` option is set, this option does not apply to tf.data functions. To force eager execution of tf.data functions, please use `tf.data.experimental.enable_debug_mode()`.\n",
            "  warnings.warn(\n"
          ]
        },
        {
          "output_type": "stream",
          "name": "stdout",
          "text": [
            "13/13 [==============================] - 12s 632ms/step - loss: 6.2278 - accuracy: 0.1439 - top-5-accuracy: 0.4293 - val_loss: 8.0284 - val_accuracy: 0.0000e+00 - val_top-5-accuracy: 0.0667\n",
            "Epoch 2/30\n",
            "13/13 [==============================] - 7s 548ms/step - loss: 4.7103 - accuracy: 0.2475 - top-5-accuracy: 0.6086 - val_loss: 8.6281 - val_accuracy: 0.0667 - val_top-5-accuracy: 0.0667\n",
            "Epoch 3/30\n",
            "13/13 [==============================] - 7s 512ms/step - loss: 3.6542 - accuracy: 0.2677 - top-5-accuracy: 0.5833 - val_loss: 7.1068 - val_accuracy: 0.0667 - val_top-5-accuracy: 0.0667\n",
            "Epoch 4/30\n",
            "13/13 [==============================] - 6s 442ms/step - loss: 3.0126 - accuracy: 0.3359 - top-5-accuracy: 0.6995 - val_loss: 6.4666 - val_accuracy: 0.0667 - val_top-5-accuracy: 0.0667\n",
            "Epoch 5/30\n",
            "13/13 [==============================] - 7s 518ms/step - loss: 2.4578 - accuracy: 0.3763 - top-5-accuracy: 0.7626 - val_loss: 6.6870 - val_accuracy: 0.0667 - val_top-5-accuracy: 0.0667\n",
            "Epoch 6/30\n",
            "13/13 [==============================] - 6s 447ms/step - loss: 1.8764 - accuracy: 0.5000 - top-5-accuracy: 0.8308 - val_loss: 9.2262 - val_accuracy: 0.0667 - val_top-5-accuracy: 0.0667\n",
            "Epoch 7/30\n",
            "13/13 [==============================] - 7s 518ms/step - loss: 2.0745 - accuracy: 0.4621 - top-5-accuracy: 0.8333 - val_loss: 9.0377 - val_accuracy: 0.0667 - val_top-5-accuracy: 0.0667\n",
            "Epoch 8/30\n",
            "13/13 [==============================] - 6s 446ms/step - loss: 1.7041 - accuracy: 0.5152 - top-5-accuracy: 0.9040 - val_loss: 8.7473 - val_accuracy: 0.0667 - val_top-5-accuracy: 0.0667\n",
            "Epoch 9/30\n",
            "13/13 [==============================] - 10s 773ms/step - loss: 1.4751 - accuracy: 0.5682 - top-5-accuracy: 0.8990 - val_loss: 9.1895 - val_accuracy: 0.0667 - val_top-5-accuracy: 0.0667\n",
            "Epoch 10/30\n",
            "13/13 [==============================] - 6s 435ms/step - loss: 1.5676 - accuracy: 0.5859 - top-5-accuracy: 0.9116 - val_loss: 10.2129 - val_accuracy: 0.0667 - val_top-5-accuracy: 0.0667\n",
            "Epoch 11/30\n",
            "13/13 [==============================] - 7s 517ms/step - loss: 1.4026 - accuracy: 0.6086 - top-5-accuracy: 0.9293 - val_loss: 7.9821 - val_accuracy: 0.0667 - val_top-5-accuracy: 0.0667\n",
            "Epoch 12/30\n",
            "13/13 [==============================] - 6s 438ms/step - loss: 1.2710 - accuracy: 0.6263 - top-5-accuracy: 0.9167 - val_loss: 9.0904 - val_accuracy: 0.0667 - val_top-5-accuracy: 0.0667\n",
            "Epoch 13/30\n",
            "13/13 [==============================] - 7s 521ms/step - loss: 1.2331 - accuracy: 0.6742 - top-5-accuracy: 0.9419 - val_loss: 10.7338 - val_accuracy: 0.0667 - val_top-5-accuracy: 0.0667\n",
            "Epoch 14/30\n",
            "13/13 [==============================] - 6s 458ms/step - loss: 1.1976 - accuracy: 0.6540 - top-5-accuracy: 0.9520 - val_loss: 11.3400 - val_accuracy: 0.0667 - val_top-5-accuracy: 0.0667\n",
            "Epoch 15/30\n",
            "13/13 [==============================] - 6s 478ms/step - loss: 1.1798 - accuracy: 0.6414 - top-5-accuracy: 0.9419 - val_loss: 10.6089 - val_accuracy: 0.0667 - val_top-5-accuracy: 0.0667\n",
            "Epoch 16/30\n",
            "13/13 [==============================] - 6s 446ms/step - loss: 1.0453 - accuracy: 0.7020 - top-5-accuracy: 0.9646 - val_loss: 10.7813 - val_accuracy: 0.0667 - val_top-5-accuracy: 0.0667\n",
            "Epoch 17/30\n",
            "13/13 [==============================] - 6s 473ms/step - loss: 1.1008 - accuracy: 0.7071 - top-5-accuracy: 0.9520 - val_loss: 9.5852 - val_accuracy: 0.0667 - val_top-5-accuracy: 0.0667\n",
            "Epoch 18/30\n",
            "13/13 [==============================] - 6s 477ms/step - loss: 0.8012 - accuracy: 0.7551 - top-5-accuracy: 0.9697 - val_loss: 10.7245 - val_accuracy: 0.0667 - val_top-5-accuracy: 0.0667\n",
            "Epoch 19/30\n",
            "13/13 [==============================] - 6s 442ms/step - loss: 0.7503 - accuracy: 0.7525 - top-5-accuracy: 0.9823 - val_loss: 10.4391 - val_accuracy: 0.0667 - val_top-5-accuracy: 0.0667\n",
            "Epoch 20/30\n",
            "13/13 [==============================] - 7s 539ms/step - loss: 0.8038 - accuracy: 0.7576 - top-5-accuracy: 0.9773 - val_loss: 10.8604 - val_accuracy: 0.0667 - val_top-5-accuracy: 0.0667\n",
            "Epoch 21/30\n",
            "13/13 [==============================] - 7s 513ms/step - loss: 0.7011 - accuracy: 0.8056 - top-5-accuracy: 0.9874 - val_loss: 12.1720 - val_accuracy: 0.0667 - val_top-5-accuracy: 0.0667\n",
            "Epoch 22/30\n",
            "13/13 [==============================] - 7s 523ms/step - loss: 0.6581 - accuracy: 0.8232 - top-5-accuracy: 0.9899 - val_loss: 13.0646 - val_accuracy: 0.0667 - val_top-5-accuracy: 0.0667\n",
            "Epoch 23/30\n",
            "13/13 [==============================] - 6s 440ms/step - loss: 0.8000 - accuracy: 0.7753 - top-5-accuracy: 0.9773 - val_loss: 11.3233 - val_accuracy: 0.0667 - val_top-5-accuracy: 0.0667\n",
            "Epoch 24/30\n",
            "13/13 [==============================] - 7s 521ms/step - loss: 0.6208 - accuracy: 0.7955 - top-5-accuracy: 0.9874 - val_loss: 13.0274 - val_accuracy: 0.0667 - val_top-5-accuracy: 0.0667\n",
            "Epoch 25/30\n",
            "13/13 [==============================] - 6s 477ms/step - loss: 0.5198 - accuracy: 0.8485 - top-5-accuracy: 0.9924 - val_loss: 12.8758 - val_accuracy: 0.0667 - val_top-5-accuracy: 0.0667\n",
            "Epoch 26/30\n",
            "13/13 [==============================] - 7s 525ms/step - loss: 0.5163 - accuracy: 0.8182 - top-5-accuracy: 0.9924 - val_loss: 13.7324 - val_accuracy: 0.0667 - val_top-5-accuracy: 0.0667\n",
            "Epoch 27/30\n",
            "13/13 [==============================] - 6s 443ms/step - loss: 0.6278 - accuracy: 0.8131 - top-5-accuracy: 0.9747 - val_loss: 13.4851 - val_accuracy: 0.0667 - val_top-5-accuracy: 0.0667\n",
            "Epoch 28/30\n",
            "13/13 [==============================] - 7s 517ms/step - loss: 0.6039 - accuracy: 0.8384 - top-5-accuracy: 0.9975 - val_loss: 12.2228 - val_accuracy: 0.0667 - val_top-5-accuracy: 0.0667\n",
            "Epoch 29/30\n",
            "13/13 [==============================] - 6s 461ms/step - loss: 0.5020 - accuracy: 0.8359 - top-5-accuracy: 0.9899 - val_loss: 14.4109 - val_accuracy: 0.0667 - val_top-5-accuracy: 0.0667\n",
            "Epoch 30/30\n",
            "13/13 [==============================] - 6s 487ms/step - loss: 0.4323 - accuracy: 0.8586 - top-5-accuracy: 0.9949 - val_loss: 16.1786 - val_accuracy: 0.0667 - val_top-5-accuracy: 0.0667\n",
            "2/2 [==============================] - 0s 130ms/step - loss: 2.8031 - accuracy: 0.3810 - top-5-accuracy: 0.7143\n",
            "Test accuracy: 38.1%\n",
            "Test top 5 accuracy: 71.43%\n",
            "2/2 [==============================] - 0s 118ms/step\n",
            "Weighted F1 score: 0.31032318651366275\n",
            "Classification Report:\n",
            "\n",
            "                      precision    recall  f1-score   support\n",
            "\n",
            "       African Jambo       0.57      1.00      0.73         4\n",
            "            Amrupali       0.33      1.00      0.50         2\n",
            "             Bari 11       0.00      0.00      0.00         3\n",
            "             Bari 13       0.40      0.50      0.44         4\n",
            "              Bari 4       1.00      1.00      1.00         2\n",
            "              Bari 7       0.00      0.00      0.00         4\n",
            "              Bari 8       0.00      0.00      0.00         2\n",
            "              Bari 9       0.00      0.00      0.00         2\n",
            "              Fazlee       0.00      0.00      0.00         2\n",
            "            GopalVog       0.00      0.00      0.00         2\n",
            "         Hari-Bhanga       0.00      0.00      0.00         2\n",
            "            Himsagor       0.12      0.50      0.20         2\n",
            "     Indian Totapori       0.14      0.50      0.22         2\n",
            "         Kacha mitha       0.50      1.00      0.67         2\n",
            "         King Brunei       1.00      1.00      1.00         2\n",
            "              Lengra       0.50      0.50      0.50         2\n",
            "           Modhurani       0.33      0.50      0.40         2\n",
            "             Moriyam       0.67      0.50      0.57         4\n",
            "Philippine Honey Dew       0.67      1.00      0.80         2\n",
            "                Qzai       0.00      0.00      0.00         2\n",
            "          Red Palmar       0.00      0.00      0.00         2\n",
            "              Sabira       0.00      0.00      0.00         2\n",
            "         Taiwani red       0.00      0.00      0.00         2\n",
            "         Thai Morium       1.00      1.00      1.00         2\n",
            "   Thai banana Mango       0.00      0.00      0.00         4\n",
            "          baper bari       0.00      0.00      0.00         2\n",
            "\n",
            "            accuracy                           0.38        63\n",
            "           macro avg       0.28      0.38      0.31        63\n",
            "        weighted avg       0.28      0.38      0.31        63\n",
            "\n"
          ]
        },
        {
          "output_type": "stream",
          "name": "stderr",
          "text": [
            "/usr/local/lib/python3.10/dist-packages/sklearn/metrics/_classification.py:1344: UndefinedMetricWarning: Precision and F-score are ill-defined and being set to 0.0 in labels with no predicted samples. Use `zero_division` parameter to control this behavior.\n",
            "  _warn_prf(average, modifier, msg_start, len(result))\n",
            "/usr/local/lib/python3.10/dist-packages/sklearn/metrics/_classification.py:1344: UndefinedMetricWarning: Precision and F-score are ill-defined and being set to 0.0 in labels with no predicted samples. Use `zero_division` parameter to control this behavior.\n",
            "  _warn_prf(average, modifier, msg_start, len(result))\n",
            "/usr/local/lib/python3.10/dist-packages/sklearn/metrics/_classification.py:1344: UndefinedMetricWarning: Precision and F-score are ill-defined and being set to 0.0 in labels with no predicted samples. Use `zero_division` parameter to control this behavior.\n",
            "  _warn_prf(average, modifier, msg_start, len(result))\n"
          ]
        }
      ],
      "source": [
        "from sklearn.metrics import f1_score\n",
        "from sklearn.metrics import classification_report\n",
        "\n",
        "def run_experiment(model):\n",
        "    optimizer = tfa.optimizers.AdamW(\n",
        "        learning_rate=learning_rate, weight_decay=weight_decay\n",
        "    )\n",
        "\n",
        "    model.compile(\n",
        "        optimizer=optimizer,\n",
        "        loss=keras.losses.SparseCategoricalCrossentropy(from_logits=True),\n",
        "        metrics=[\n",
        "            keras.metrics.SparseCategoricalAccuracy(name=\"accuracy\"),\n",
        "            keras.metrics.SparseTopKCategoricalAccuracy(5, name=\"top-5-accuracy\"),\n",
        "        ],\n",
        "    )\n",
        "\n",
        "    checkpoint_filepath = \"/tmp/checkpoint\"\n",
        "    checkpoint_callback = keras.callbacks.ModelCheckpoint(\n",
        "        checkpoint_filepath,\n",
        "        monitor=\"val_accuracy\",\n",
        "        save_best_only=True,\n",
        "        save_weights_only=True,\n",
        "    )\n",
        "\n",
        "    history = model.fit(\n",
        "        x=x_train,\n",
        "        y=y_train,\n",
        "        batch_size=batch_size,\n",
        "        epochs=num_epochs,\n",
        "        validation_split=0.1,\n",
        "        callbacks=[checkpoint_callback],\n",
        "    )\n",
        "\n",
        "    model.load_weights(checkpoint_filepath)\n",
        "    _, accuracy, top_5_accuracy = model.evaluate(x_test, y_test)\n",
        "    print(f\"Test accuracy: {round(accuracy * 100, 2)}%\")\n",
        "    print(f\"Test top 5 accuracy: {round(top_5_accuracy * 100, 2)}%\")\n",
        "\n",
        "    # Predict the test data\n",
        "    y_pred = model.predict(x_test)\n",
        "    y_pred_labels = np.argmax(y_pred, axis=1)\n",
        "    # Convert integer labels to class names for F1 score calculation\n",
        "    y_test_class_names = [class_folders[i] for i in y_test]\n",
        "    y_pred_class_names = [class_folders[i] for i in y_pred_labels]\n",
        "    f1 = f1_score(y_test_class_names, y_pred_class_names, average=\"weighted\")\n",
        "    print(f\"Weighted F1 score: {f1}\")\n",
        "    classification_rep = classification_report(\n",
        "        y_test_class_names, y_pred_class_names, target_names=class_folders\n",
        "    )\n",
        "\n",
        "    print(\"Classification Report:\\n\")\n",
        "    print(classification_rep)\n",
        "    return history\n",
        "\n",
        "# Create the ViT classifier model\n",
        "vit_classifier = create_vit_classifier()\n",
        "\n",
        "# Run the experiment\n",
        "history = run_experiment(vit_classifier)\n"
      ]
    },
    {
      "cell_type": "code",
      "source": [
        "\n",
        "# Plot accuracy and loss graphs\n",
        "plot_accuracy_and_loss(history)\n"
      ],
      "metadata": {
        "colab": {
          "base_uri": "https://localhost:8080/",
          "height": 407
        },
        "id": "Bs1SZKJzBIwg",
        "outputId": "206faab4-cd13-48a4-dd0a-2dcb869e5949"
      },
      "execution_count": 35,
      "outputs": [
        {
          "output_type": "display_data",
          "data": {
            "text/plain": [
              "<Figure size 1200x400 with 2 Axes>"
            ],
            "image/png": "[encoded data removed]"
          },
          "metadata": {}
        }
      ]
    },
    {
      "cell_type": "code",
      "execution_count": 29,
      "metadata": {
        "colab": {
          "base_uri": "https://localhost:8080/",
          "height": 407
        },
        "id": "ChFKr0LVvVWi",
        "outputId": "ac4cc1c7-0d46-4922-d716-8811fb235690"
      },
      "outputs": [
        {
          "output_type": "display_data",
          "data": {
            "text/plain": [
              "<Figure size 1200x400 with 2 Axes>"
            ],
            "image/png": "[encoded data removed]"
          },
          "metadata": {}
        }
      ],
      "source": [
        "import matplotlib.pyplot as plt\n",
        "\n",
        "# ... (Your existing code for imports and functions)\n",
        "\n",
        "def plot_accuracy_and_loss(history):\n",
        "    plt.figure(figsize=(12, 4))\n",
        "\n",
        "    # Plot training and validation accuracy\n",
        "    plt.subplot(1, 2, 1)\n",
        "    plt.plot(history.history['accuracy'], label='Train Accuracy')\n",
        "    plt.plot(history.history['val_accuracy'], label='Validation Accuracy')\n",
        "    plt.title('Training and Validation Accuracy')\n",
        "    plt.xlabel('Epoch')\n",
        "    plt.ylabel('Accuracy')\n",
        "    plt.legend()\n",
        "\n",
        "    # Plot training and validation loss\n",
        "    plt.subplot(1, 2, 2)\n",
        "    plt.plot(history.history['loss'], label='Train Loss')\n",
        "    plt.plot(history.history['val_loss'], label='Validation Loss')\n",
        "    plt.title('Training and Validation Loss')\n",
        "    plt.xlabel('Epoch')\n",
        "    plt.ylabel('Loss')\n",
        "    plt.legend()\n",
        "\n",
        "    plt.tight_layout()\n",
        "    plt.show()\n",
        "\n",
        "\n",
        "\n",
        "# Plot training and validation accuracy and loss\n",
        "plot_accuracy_and_loss(history)\n"
      ]
    },
    {
      "cell_type": "code",
      "source": [
        "import pandas as pd\n",
        "\n",
        "# Save classification report to a CSV file\n",
        "classification_report_df = pd.DataFrame(classification_report(\n",
        "    y_test_class_names, y_pred_class_names, target_names=class_folders, output_dict=True\n",
        "))\n",
        "classification_report_df.to_csv(\"classification_report.csv\", index=True)\n",
        "\n",
        "print(\"Classification Report saved to: classification_report.csv\")"
      ],
      "metadata": {
        "colab": {
          "base_uri": "https://localhost:8080/",
          "height": 245
        },
        "id": "qChAi93cTGuA",
        "outputId": "1d6fbc07-63d5-4f71-d674-0c275fb2ba70"
      },
      "execution_count": null,
      "outputs": [
        {
          "output_type": "error",
          "ename": "NameError",
          "evalue": "ignored",
          "traceback": [
            "\u001b[0;31m---------------------------------------------------------------------------\u001b[0m",
            "\u001b[0;31mNameError\u001b[0m                                 Traceback (most recent call last)",
            "\u001b[0;32m<ipython-input-28-8845c0308da8>\u001b[0m in \u001b[0;36m<cell line: 4>\u001b[0;34m()\u001b[0m\n\u001b[1;32m      3\u001b[0m \u001b[0;31m# Save classification report to a CSV file\u001b[0m\u001b[0;34m\u001b[0m\u001b[0;34m\u001b[0m\u001b[0m\n\u001b[1;32m      4\u001b[0m classification_report_df = pd.DataFrame(classification_report(\n\u001b[0;32m----> 5\u001b[0;31m     \u001b[0my_test_class_names\u001b[0m\u001b[0;34m,\u001b[0m \u001b[0my_pred_class_names\u001b[0m\u001b[0;34m,\u001b[0m \u001b[0mtarget_names\u001b[0m\u001b[0;34m=\u001b[0m\u001b[0mclass_folders\u001b[0m\u001b[0;34m,\u001b[0m \u001b[0moutput_dict\u001b[0m\u001b[0;34m=\u001b[0m\u001b[0;32mTrue\u001b[0m\u001b[0;34m\u001b[0m\u001b[0;34m\u001b[0m\u001b[0m\n\u001b[0m\u001b[1;32m      6\u001b[0m ))\n\u001b[1;32m      7\u001b[0m \u001b[0mclassification_report_df\u001b[0m\u001b[0;34m.\u001b[0m\u001b[0mto_csv\u001b[0m\u001b[0;34m(\u001b[0m\u001b[0;34m\"classification_report.csv\"\u001b[0m\u001b[0;34m,\u001b[0m \u001b[0mindex\u001b[0m\u001b[0;34m=\u001b[0m\u001b[0;32mTrue\u001b[0m\u001b[0;34m)\u001b[0m\u001b[0;34m\u001b[0m\u001b[0;34m\u001b[0m\u001b[0m\n",
            "\u001b[0;31mNameError\u001b[0m: name 'y_test_class_names' is not defined"
          ]
        }
      ]
    },
    {
      "cell_type": "code",
      "source": [
        "model_path = \"/content/drive/MyDrive/VIT/models\" # add the model path where to save\n",
        "vit_classifier.save(model_path)"
      ],
      "metadata": {
        "id": "LLL6AiRHTO9O"
      },
      "execution_count": null,
      "outputs": []
    },
    {
      "cell_type": "markdown",
      "metadata": {
        "id": "OfdpA5-7PGea"
      },
      "source": [
        "### Testing"
      ]
    },
    {
      "cell_type": "code",
      "execution_count": null,
      "metadata": {
        "id": "uq2X6qUHObeK"
      },
      "outputs": [],
      "source": [
        "from tensorflow.keras.models import load_model\n",
        "loaded_model = load_model(\"/content/drive/MyDrive/model\")\n"
      ]
    },
    {
      "cell_type": "code",
      "execution_count": null,
      "metadata": {
        "id": "R6pak2VNMyj5"
      },
      "outputs": [],
      "source": [
        "from tensorflow.keras.preprocessing import image\n",
        "import numpy as np\n",
        "\n",
        "def preprocess_input_image(img_path):\n",
        "    # Load the image\n",
        "    img = image.load_img(img_path, target_size=(72, 72), color_mode=\"rgb\")\n",
        "    img_array = image.img_to_array(img)\n",
        "    img_array = np.expand_dims(img_array, axis=0)  # Add batch dimension\n",
        "    img_array /= 255.0  # Normalize to [0, 1]\n",
        "    return img_array\n"
      ]
    },
    {
      "cell_type": "code",
      "execution_count": null,
      "metadata": {
        "colab": {
          "base_uri": "https://localhost:8080/"
        },
        "id": "UOX0TRx1M_g3",
        "outputId": "a9fbfa02-e11c-4796-be50-d55f6edb40f8"
      },
      "outputs": [
        {
          "name": "stdout",
          "output_type": "stream",
          "text": [
            "1/1 [==============================] - 0s 149ms/step\n",
            "Predicted class index: 4\n"
          ]
        },
        {
          "name": "stderr",
          "output_type": "stream",
          "text": [
            "/usr/local/lib/python3.10/dist-packages/tensorflow/python/data/ops/structured_function.py:254: UserWarning: Even though the `tf.config.experimental_run_functions_eagerly` option is set, this option does not apply to tf.data functions. To force eager execution of tf.data functions, please use `tf.data.experimental.enable_debug_mode()`.\n",
            "  warnings.warn(\n"
          ]
        }
      ],
      "source": [
        "import tensorflow as tf\n",
        "import numpy as np\n",
        "\n",
        "# Load the SavedModel\n",
        "model = tf.keras.models.load_model('/content/drive/MyDrive/model')\n",
        "\n",
        "# Preprocess the image\n",
        "def preprocess_input_image(image_path):\n",
        "    img = tf.keras.preprocessing.image.load_img(image_path, target_size=(72, 72))\n",
        "    img_array = tf.keras.preprocessing.image.img_to_array(img)\n",
        "    img_array = np.expand_dims(img_array, axis=0)\n",
        "    # Apply the same normalization used during training\n",
        "    preprocessed_img = data_augmentation.layers[0](img_array)\n",
        "    return preprocessed_img\n",
        "\n",
        "# Replace with the path to your image\n",
        "image_path = \"/content/drive/MyDrive/VIT/train/baper bari/Bbari (242).jpg\"\n",
        "\n",
        "preprocessed_image = preprocess_input_image(image_path)\n",
        "predictions = model.predict(preprocessed_image)\n",
        "predicted_class = np.argmax(predictions[0])\n",
        "\n",
        "print(f\"Predicted class index: {predicted_class}\")\n"
      ]
    },
    {
      "cell_type": "code",
      "execution_count": null,
      "metadata": {
        "colab": {
          "base_uri": "https://localhost:8080/"
        },
        "id": "lcHGPHGCxOBa",
        "outputId": "1ac967eb-e70f-4d9c-a6fc-b6dab20d5d00"
      },
      "outputs": [
        {
          "name": "stdout",
          "output_type": "stream",
          "text": [
            "1/1 [==============================] - 0s 146ms/step\n",
            "Predicted class name: Bari 4\n"
          ]
        },
        {
          "name": "stderr",
          "output_type": "stream",
          "text": [
            "/usr/local/lib/python3.10/dist-packages/tensorflow/python/data/ops/structured_function.py:254: UserWarning: Even though the `tf.config.experimental_run_functions_eagerly` option is set, this option does not apply to tf.data functions. To force eager execution of tf.data functions, please use `tf.data.experimental.enable_debug_mode()`.\n",
            "  warnings.warn(\n"
          ]
        }
      ],
      "source": [
        "import tensorflow as tf\n",
        "import numpy as np\n",
        "\n",
        "# Load the SavedModel\n",
        "model = tf.keras.models.load_model('/content/drive/MyDrive/model')\n",
        "\n",
        "# Preprocess the image\n",
        "def preprocess_input_image(image_path):\n",
        "    img = tf.keras.preprocessing.image.load_img(image_path, target_size=(72, 72))\n",
        "    img_array = tf.keras.preprocessing.image.img_to_array(img)\n",
        "    img_array = np.expand_dims(img_array, axis=0)\n",
        "    preprocessed_img = tf.keras.applications.vgg16.preprocess_input(img_array)\n",
        "    return preprocessed_img\n",
        "\n",
        "# Replace with the path to your image\n",
        "image_path = \"/content/drive/MyDrive/VIT/train/King Brunei/King Brunei (15).jpg\"\n",
        "\n",
        "preprocessed_image = preprocess_input_image(image_path)\n",
        "predictions = model.predict(preprocessed_image)\n",
        "predicted_class = np.argmax(predictions[0])\n",
        "\n",
        "# Map class indices to class names\n",
        "class_names = ['African Jambo', 'Amrupali', 'Bari 11', 'Bari 13', 'Bari 4', 'Bari 7', 'Bari 8', 'Bari 9', 'Fazlee', 'GopalVog', 'Hari-Bhanga', 'Himsagor', 'Indian Totapori', 'Kacha mitha', 'King Brunei', 'Lengra', 'Modhurani', 'Moriyam', 'Philippine Honey Dew', 'Qzai', 'Red Palmar', 'Sabira', 'Taiwani red', 'Thai Morium', 'Thai banana Mango', 'baper bari']  # Define your class names here\n",
        "\n",
        "predicted_class_name = class_names[predicted_class]\n",
        "\n",
        "print(f\"Predicted class name: {predicted_class_name}\")\n"
      ]
    },
    {
      "cell_type": "code",
      "execution_count": null,
      "metadata": {
        "colab": {
          "base_uri": "https://localhost:8080/"
        },
        "id": "qno7U_snNAOn",
        "outputId": "ec647867-cfea-4dd2-d610-d4599abd9127"
      },
      "outputs": [
        {
          "name": "stdout",
          "output_type": "stream",
          "text": [
            "Class names in order:\n",
            "['African Jambo', 'Amrupali', 'Bari 11', 'Bari 13', 'Bari 4', 'Bari 7', 'Bari 8', 'Bari 9', 'Fazlee', 'GopalVog', 'Hari-Bhanga', 'Himsagor', 'Indian Totapori', 'Kacha mitha', 'King Brunei', 'Lengra', 'Modhurani', 'Moriyam', 'Philippine Honey Dew', 'Qzai', 'Red Palmar', 'Sabira', 'Taiwani red', 'Thai Morium', 'Thai banana Mango', 'baper bari']\n"
          ]
        }
      ],
      "source": [
        "import os\n",
        "\n",
        "# Path to the directory containing the dataset with class folders\n",
        "data_dir = \"/content/drive/MyDrive/VIT/smalldata_jpg\"\n",
        "\n",
        "# List all class folders\n",
        "class_folders = sorted(os.listdir(data_dir))\n",
        "\n",
        "# Get the class names in the order they appear in the dataset\n",
        "class_names = class_folders\n",
        "\n",
        "print(\"Class names in order:\")\n",
        "print(class_names)\n",
        "\n"
      ]
    },
    {
      "cell_type": "code",
      "execution_count": null,
      "metadata": {
        "id": "r10Za0beOzAu"
      },
      "outputs": [],
      "source": []
    }
  ],
  "metadata": {
    "accelerator": "GPU",
    "colab": {
      "collapsed_sections": [
        "66rxjege57Mu",
        "24g-Wyd4nojw"
      ],
      "machine_shape": "hm",
      "provenance": []
    },
    "kernelspec": {
      "display_name": "Python 3",
      "name": "python3"
    },
    "language_info": {
      "name": "python"
    }
  },
  "nbformat": 4,
  "nbformat_minor": 0
}