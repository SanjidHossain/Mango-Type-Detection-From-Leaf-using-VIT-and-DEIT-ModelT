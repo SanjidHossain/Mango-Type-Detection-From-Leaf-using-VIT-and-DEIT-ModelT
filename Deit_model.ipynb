{
 "cells": [
  {
   "cell_type": "code",
   "execution_count": null,
   "metadata": {},
   "outputs": [],
   "source": [
    "! pip install transformers tensorflow \n"
   ]
  },
  {
   "cell_type": "code",
   "execution_count": null,
   "metadata": {},
   "outputs": [],
   "source": [
    "from sklearn.model_selection import train_test_split\n",
    "from tensorflow.keras.utils import to_categorical\n",
    "from tensorflow.keras.preprocessing.image import load_img, img_to_array\n",
    "import numpy as np\n",
    "import os\n",
    "\n",
    "# Directory containing all images\n",
    "data_dir = \"path_to_data\"\n",
    "\n",
    "# Lists to hold images and labels\n",
    "images = []\n",
    "labels = []\n",
    "\n",
    "# Get all the folder names (leaf types)\n",
    "leaf_types = [folder_name for folder_name in os.listdir(data_dir)]\n",
    "\n",
    "# Create a mapping of leaf types to integer labels\n",
    "label_mapping = {leaf_type: idx for idx, leaf_type in enumerate(leaf_types)}\n",
    "\n",
    "# Load images and labels\n",
    "for folder_name in leaf_types:\n",
    "    folder_path = os.path.join(data_dir, folder_name)\n",
    "    for img_name in os.listdir(folder_path):\n",
    "        img_path = os.path.join(folder_path, img_name)\n",
    "        img = load_img(img_path, target_size=(224, 224))\n",
    "        img_array = img_to_array(img)\n",
    "        images.append(img_array)\n",
    "        labels.append(label_mapping[folder_name])\n",
    "\n",
    "# Convert to arrays\n",
    "images = np.array(images)\n",
    "labels = to_categorical(np.array(labels), num_classes=len(label_mapping))\n",
    "\n",
    "# Split into training, validation, and testing sets (e.g., 70% train, 15% validation, 15% test)\n",
    "train_images, test_images, train_labels, test_labels = train_test_split(images, labels, test_size=0.3, random_state=42)\n",
    "val_images, test_images, val_labels, test_labels = train_test_split(test_images, test_labels, test_size=0.5, random_state=42)\n"
   ]
  },
  {
   "cell_type": "code",
   "execution_count": null,
   "metadata": {},
   "outputs": [],
   "source": [
    "# Data augmentation\n",
    "train_datagen = ImageDataGenerator(rescale=1.0/255, rotation_range=20, width_shift_range=0.2, height_shift_range=0.2, shear_range=0.2, zoom_range=0.2, horizontal_flip=True)\n",
    "val_datagen = ImageDataGenerator(rescale=1.0/255)\n",
    "test_datagen = ImageDataGenerator(rescale=1.0/255)\n",
    "\n",
    "# Create data generators\n",
    "train_generator = train_datagen.flow(train_images, train_labels, batch_size=32)\n",
    "val_generator = val_datagen.flow(val_images, val_labels, batch_size=32)\n",
    "test_generator = test_datagen.flow(test_images, test_labels, batch_size=32)\n"
   ]
  },
  {
   "cell_type": "markdown",
   "metadata": {},
   "source": [
    "### Model loading"
   ]
  },
  {
   "cell_type": "code",
   "execution_count": null,
   "metadata": {},
   "outputs": [],
   "source": [
    "from transformers import DeiTFeatureExtractor, DeiTForImageClassification\n",
    "\n",
    "# Load the feature extractor\n",
    "feature_extractor = DeiTFeatureExtractor.from_pretrained(\"facebook/deit-base-distilled-patch16-224\")\n",
    "\n",
    "# Load the DeiT model\n",
    "model = DeiTForImageClassification.from_pretrained(\"facebook/deit-base-distilled-patch16-224\")\n"
   ]
  },
  {
   "cell_type": "markdown",
   "metadata": {},
   "source": [
    "### model training"
   ]
  },
  {
   "cell_type": "code",
   "execution_count": null,
   "metadata": {},
   "outputs": [],
   "source": [
    "from tensorflow.keras.optimizers import Adam\n",
    "\n",
    "# Compile the model\n",
    "model.compile(optimizer=Adam(lr=0.0001), loss='categorical_crossentropy', metrics=['accuracy'])\n",
    "\n",
    "# Train the model\n",
    "history = model.fit(train_generator, validation_data=val_generator, epochs=10, steps_per_epoch=100, validation_steps=50)\n"
   ]
  },
  {
   "cell_type": "markdown",
   "metadata": {},
   "source": [
    "### Evaluation"
   ]
  },
  {
   "cell_type": "code",
   "execution_count": null,
   "metadata": {},
   "outputs": [],
   "source": [
    "# Evaluate the model\n",
    "test_loss, test_accuracy = model.evaluate(test_generator)\n",
    "print(\"Test accuracy:\", test_accuracy)\n"
   ]
  },
  {
   "cell_type": "markdown",
   "metadata": {},
   "source": [
    "### interpretations"
   ]
  },
  {
   "cell_type": "code",
   "execution_count": null,
   "metadata": {},
   "outputs": [],
   "source": [
    "import matplotlib.pyplot as plt\n",
    "\n",
    "# Plot training & validation accuracy values\n",
    "plt.plot(history.history['accuracy'])\n",
    "plt.plot(history.history['val_accuracy'])\n",
    "plt.title('Model accuracy')\n",
    "plt.ylabel('Accuracy')\n",
    "plt.xlabel('Epoch')\n",
    "plt.legend(['Train', 'Validation'], loc='upper left')\n",
    "plt.show()\n",
    "\n",
    "# Plot training & validation loss values\n",
    "plt.plot(history.history['loss'])\n",
    "plt.plot(history.history['val_loss'])\n",
    "plt.title('Model loss')\n",
    "plt.ylabel('Loss')\n",
    "plt.xlabel('Epoch')\n",
    "plt.legend(['Train', 'Validation'], loc='upper left')\n",
    "plt.show()\n"
   ]
  },
  {
   "cell_type": "markdown",
   "metadata": {},
   "source": [
    "### Testing"
   ]
  },
  {
   "cell_type": "code",
   "execution_count": null,
   "metadata": {},
   "outputs": [],
   "source": [
    "# Evaluate the model\n",
    "test_loss, test_accuracy = model.evaluate(test_generator)\n",
    "print(\"Test accuracy:\", test_accuracy)"
   ]
  },
  {
   "cell_type": "code",
   "execution_count": null,
   "metadata": {},
   "outputs": [],
   "source": [
    "import numpy as np\n",
    "\n",
    "# Get a batch of test images and labels\n",
    "test_images_batch, test_labels_batch = next(test_generator)\n",
    "\n",
    "# Predict the labels\n",
    "predicted_labels_batch = model.predict(test_images_batch)\n",
    "predicted_labels = np.argmax(predicted_labels_batch, axis=1)\n",
    "true_labels = np.argmax(test_labels_batch, axis=1)\n",
    "\n",
    "# Reverse the label mapping to get the leaf type names\n",
    "reverse_label_mapping = {value: key for key, value in label_mapping.items()}\n",
    "\n",
    "# Plot some images with true and predicted labels\n",
    "for i in range(5): # Change this to the number of images you want to visualize\n",
    "    plt.imshow(test_images_batch[i])\n",
    "    plt.title(f\"True: {reverse_label_mapping[true_labels[i]]}, Predicted: {reverse_label_mapping[predicted_labels[i]]}\")\n",
    "    plt.show()\n"
   ]
  }
 ],
 "metadata": {
  "language_info": {
   "name": "python"
  },
  "orig_nbformat": 4
 },
 "nbformat": 4,
 "nbformat_minor": 2
}
